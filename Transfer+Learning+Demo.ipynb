{
 "cells": [
  {
   "cell_type": "code",
   "execution_count": 76,
   "metadata": {},
   "outputs": [],
   "source": [
    "import numpy as np\n",
    "import keras\n",
    "from keras.datasets import cifar10\n",
    "from keras.layers import Dense, Conv2D, Flatten, Activation, MaxPooling2D, Dropout\n",
    "from keras.models import Sequential\n",
    "from keras.utils import np_utils\n"
   ]
  },
  {
   "cell_type": "code",
   "execution_count": 77,
   "metadata": {
    "collapsed": true
   },
   "outputs": [],
   "source": [
    "(x_train, y_train), (x_test, y_test) = cifar10.load_data()\n",
    "n_examples = 5000"
   ]
  },
  {
   "cell_type": "code",
   "execution_count": 78,
   "metadata": {
    "collapsed": true
   },
   "outputs": [],
   "source": [
    "X1_train = []\n",
    "X1_test = []\n",
    "X2_train = []\n",
    "X2_test = []\n",
    "Y1_train = []\n",
    "Y1_test = []\n",
    "Y2_train = []\n",
    "Y2_test = []\n",
    "\n",
    "for ix in range(n_examples):\n",
    "    if y_train[ix] < 5:\n",
    "        # put data in set 1\n",
    "        X1_train.append(x_train[ix]/255.0)\n",
    "        Y1_train.append(y_train[ix])\n",
    "    else:\n",
    "        # put data in set 2\n",
    "        X2_train.append(x_train[ix]/255.0)\n",
    "        Y2_train.append(y_train[ix])\n",
    "\n",
    "for ix in range(y_test.shape[0]):\n",
    "    if y_test[ix] < 5:\n",
    "        # put data in set 1\n",
    "        X1_test.append(x_test[ix]/255.0)\n",
    "        Y1_test.append(y_test[ix])\n",
    "    else:\n",
    "        # put data in set 2\n",
    "        X2_test.append(x_test[ix]/255.0)\n",
    "        Y2_test.append(y_test[ix])\n"
   ]
  },
  {
   "cell_type": "code",
   "execution_count": 79,
   "metadata": {
    "collapsed": true
   },
   "outputs": [],
   "source": [
    "#Convert the input to an array\n",
    "X1_train = np.asarray(X1_train).reshape((-1, 32, 32, 3))\n",
    "X1_test = np.asarray(X1_test).reshape((-1, 32, 32, 3))\n",
    "X2_train = np.asarray(X2_train).reshape((-1, 32, 32, 3))\n",
    "X2_test = np.asarray(X2_test).reshape((-1, 32, 32, 3))\n",
    "\n",
    "# One hot representation for multiclass problem\n",
    "# Convert 1-dimensional class arrays to 10-dimensional class matrices\n",
    "Y1_train = np_utils.to_categorical(np.asarray(Y1_train), num_classes=5)\n",
    "Y1_test = np_utils.to_categorical(np.asarray(Y1_test), num_classes=5)\n",
    "\n",
    "Y2_train = np_utils.to_categorical(np.asarray(Y2_train), num_classes=10)\n",
    "Y2_test = np_utils.to_categorical(np.asarray(Y2_test), num_classes=10)"
   ]
  },
  {
   "cell_type": "code",
   "execution_count": 80,
   "metadata": {},
   "outputs": [
    {
     "name": "stdout",
     "output_type": "stream",
     "text": [
      "(2489, 32, 32, 3) (5000, 32, 32, 3)\n",
      "(2489, 5) (5000, 5)\n"
     ]
    }
   ],
   "source": [
    "print (X1_train.shape, X1_test.shape)\n",
    "print (Y1_train.shape, Y1_test.shape)\n"
   ]
  },
  {
   "cell_type": "code",
   "execution_count": 81,
   "metadata": {
    "collapsed": true
   },
   "outputs": [],
   "source": [
    "split1 = int(0.8 * X1_train.shape[0])\n",
    "split2 = int(0.8 * X2_train.shape[0])\n",
    "\n",
    "x1_val = X1_train[split1:]\n",
    "x1_train = X1_train[:split1]\n",
    "y1_val = Y1_train[split1:]\n",
    "y1_train = Y1_train[:split1]\n",
    "\n",
    "x2_val = X2_train[split2:]\n",
    "x2_train = X2_train[:split2]\n",
    "y2_val = Y2_train[split2:]\n",
    "y2_train = Y2_train[:split2]"
   ]
  },
  {
   "cell_type": "markdown",
   "metadata": {},
   "source": [
    "http://cs231n.github.io/assets/conv-demo/index.html"
   ]
  },
  {
   "cell_type": "code",
   "execution_count": 87,
   "metadata": {},
   "outputs": [
    {
     "name": "stdout",
     "output_type": "stream",
     "text": [
      "_________________________________________________________________\n",
      "Layer (type)                 Output Shape              Param #   \n",
      "=================================================================\n",
      "conv2d_28 (Conv2D)           (None, 28, 28, 32)        2432      \n",
      "_________________________________________________________________\n",
      "conv2d_29 (Conv2D)           (None, 24, 24, 16)        12816     \n",
      "_________________________________________________________________\n",
      "max_pooling2d_10 (MaxPooling (None, 12, 12, 16)        0         \n",
      "_________________________________________________________________\n",
      "conv2d_30 (Conv2D)           (None, 10, 10, 8)         1160      \n",
      "_________________________________________________________________\n",
      "flatten_10 (Flatten)         (None, 800)               0         \n",
      "_________________________________________________________________\n",
      "dropout_10 (Dropout)         (None, 800)               0         \n",
      "_________________________________________________________________\n",
      "dense_23 (Dense)             (None, 128)               102528    \n",
      "_________________________________________________________________\n",
      "dense_24 (Dense)             (None, 5)                 645       \n",
      "=================================================================\n",
      "Total params: 119,581\n",
      "Trainable params: 119,581\n",
      "Non-trainable params: 0\n",
      "_________________________________________________________________\n"
     ]
    }
   ],
   "source": [
    "model = Sequential()\n",
    "\n",
    "model.add(Conv2D(32, (5, 5), input_shape=(32, 32, 3), activation='relu'))\n",
    "model.add(Conv2D(16, (5, 5), activation='relu'))\n",
    "model.add(MaxPooling2D(pool_size=(2,2)))\n",
    "model.add(Conv2D(8, (3, 3), activation='relu'))\n",
    "model.add(Flatten())\n",
    "model.add(Dropout(0.42))\n",
    "\n",
    "model.add(Dense(128, activation='relu'))\n",
    "model.add(Dense(5,activation='softmax'))\n",
    "model.summary()\n",
    "model.compile(loss='categorical_crossentropy', optimizer='adam', metrics=['accuracy'])"
   ]
  },
  {
   "cell_type": "code",
   "execution_count": 88,
   "metadata": {},
   "outputs": [
    {
     "name": "stdout",
     "output_type": "stream",
     "text": [
      "Epoch 1/10\n",
      "5s - loss: 1.5818 - acc: 0.2732\n",
      "Epoch 2/10\n",
      "4s - loss: 1.4384 - acc: 0.3968\n",
      "Epoch 3/10\n",
      "4s - loss: 1.2563 - acc: 0.4802\n",
      "Epoch 4/10\n",
      "4s - loss: 1.1560 - acc: 0.5143\n",
      "Epoch 5/10\n",
      "4s - loss: 1.1184 - acc: 0.5274\n",
      "Epoch 6/10\n",
      "4s - loss: 1.0573 - acc: 0.5545\n",
      "Epoch 7/10\n",
      "4s - loss: 1.0006 - acc: 0.5892\n",
      "Epoch 8/10\n",
      "4s - loss: 0.9789 - acc: 0.5997\n",
      "Epoch 9/10\n",
      "4s - loss: 0.9467 - acc: 0.6067\n",
      "Epoch 10/10\n",
      "4s - loss: 0.9555 - acc: 0.5982\n",
      "\n",
      "\n",
      " -------------------- \n",
      "\n",
      "Time taken for first training:  0:00:44.691678\n",
      "\n",
      " -------------------- \n",
      "\n",
      "\n"
     ]
    }
   ],
   "source": [
    "import time, datetime\n",
    "\n",
    "start = datetime.datetime.now()\n",
    "hist1 = model.fit(x1_train, y1_train,\n",
    "                  batch_size=100,\n",
    "                  epochs=10,\n",
    "                  verbose=2,\n",
    "                  shuffle=True)\n",
    "\n",
    "time_taken = datetime.datetime.now() - start\n",
    "print ('\\n'*2, '-'*20, '\\n')\n",
    "print ('Time taken for first training: ', time_taken)\n",
    "print ('\\n', '-'*20, '\\n'*2)"
   ]
  },
  {
   "cell_type": "code",
   "execution_count": 43,
   "metadata": {
    "collapsed": true
   },
   "outputs": [],
   "source": [
    "for l in model.layers[:6]:\n",
    "    l.trainable = False  "
   ]
  },
  {
   "cell_type": "code",
   "execution_count": 44,
   "metadata": {},
   "outputs": [
    {
     "name": "stdout",
     "output_type": "stream",
     "text": [
      "_________________________________________________________________\n",
      "Layer (type)                 Output Shape              Param #   \n",
      "=================================================================\n",
      "conv2d_16 (Conv2D)           (None, 28, 28, 32)        2432      \n",
      "_________________________________________________________________\n",
      "conv2d_17 (Conv2D)           (None, 24, 24, 16)        12816     \n",
      "_________________________________________________________________\n",
      "max_pooling2d_6 (MaxPooling2 (None, 12, 12, 16)        0         \n",
      "_________________________________________________________________\n",
      "conv2d_18 (Conv2D)           (None, 10, 10, 8)         1160      \n",
      "_________________________________________________________________\n",
      "flatten_6 (Flatten)          (None, 800)               0         \n",
      "_________________________________________________________________\n",
      "dropout_6 (Dropout)          (None, 800)               0         \n",
      "_________________________________________________________________\n",
      "dense_15 (Dense)             (None, 128)               102528    \n",
      "_________________________________________________________________\n",
      "activation_15 (Activation)   (None, 128)               0         \n",
      "_________________________________________________________________\n",
      "dense_16 (Dense)             (None, 10)                1290      \n",
      "_________________________________________________________________\n",
      "activation_16 (Activation)   (None, 10)                0         \n",
      "=================================================================\n",
      "Total params: 120,226\n",
      "Trainable params: 103,818\n",
      "Non-trainable params: 16,408\n",
      "_________________________________________________________________\n"
     ]
    }
   ],
   "source": [
    "trans_model = Sequential(model.layers[:6])\n",
    "\n",
    "trans_model.add(Dense(128))\n",
    "trans_model.add(Activation('relu'))\n",
    "trans_model.add(Dense(10))\n",
    "trans_model.add(Activation('softmax'))\n",
    "\n",
    "trans_model.summary()\n",
    "trans_model.compile(loss='categorical_crossentropy', optimizer='adam', metrics=['accuracy'])"
   ]
  },
  {
   "cell_type": "code",
   "execution_count": 45,
   "metadata": {},
   "outputs": [
    {
     "name": "stdout",
     "output_type": "stream",
     "text": [
      "Epoch 1/10\n",
      "2s - loss: 1.6549 - acc: 0.4253\n",
      "Epoch 2/10\n",
      "2s - loss: 1.0703 - acc: 0.5931\n",
      "Epoch 3/10\n",
      "2s - loss: 0.9708 - acc: 0.6429\n",
      "Epoch 4/10\n",
      "2s - loss: 0.9490 - acc: 0.6524\n",
      "Epoch 5/10\n",
      "2s - loss: 0.9261 - acc: 0.6539\n",
      "Epoch 6/10\n",
      "2s - loss: 0.8822 - acc: 0.6643\n",
      "Epoch 7/10\n",
      "2s - loss: 0.8764 - acc: 0.6668\n",
      "Epoch 8/10\n",
      "2s - loss: 0.8583 - acc: 0.6743\n",
      "Epoch 9/10\n",
      "2s - loss: 0.8298 - acc: 0.6972\n",
      "Epoch 10/10\n",
      "2s - loss: 0.8342 - acc: 0.6873\n",
      "\n",
      "\n",
      " -------------------- \n",
      "\n",
      "Time taken for final training:  0:00:22.914861\n",
      "\n",
      " -------------------- \n",
      "\n",
      "\n"
     ]
    }
   ],
   "source": [
    "start = datetime.datetime.now()\n",
    "hist2 = trans_model.fit(x2_train, y2_train, epochs=10, shuffle=True, batch_size=100, verbose=2)\n",
    "time_taken = datetime.datetime.now() - start\n",
    "print ('\\n'*2, '-'*20, '\\n')\n",
    "print ('Time taken for final training: ', time_taken)\n",
    "print ('\\n', '-'*20, '\\n'*2)"
   ]
  },
  {
   "cell_type": "code",
   "execution_count": null,
   "metadata": {
    "collapsed": true
   },
   "outputs": [],
   "source": []
  }
 ],
 "metadata": {
  "kernelspec": {
   "display_name": "Python 3",
   "language": "python",
   "name": "python3"
  },
  "language_info": {
   "codemirror_mode": {
    "name": "ipython",
    "version": 3
   },
   "file_extension": ".py",
   "mimetype": "text/x-python",
   "name": "python",
   "nbconvert_exporter": "python",
   "pygments_lexer": "ipython3",
   "version": "3.6.1"
  }
 },
 "nbformat": 4,
 "nbformat_minor": 2
}
